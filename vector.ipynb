{
 "cells": [
  {
   "cell_type": "code",
   "execution_count": 19,
   "metadata": {},
   "outputs": [],
   "source": [
    "import pathlib\n",
    "import polars as pl\n",
    "import chromadb\n",
    "import os\n",
    "import json"
   ]
  },
  {
   "cell_type": "code",
   "execution_count": 20,
   "metadata": {},
   "outputs": [],
   "source": [
    "file_path = \"/Users/davidkolb/Documents/Code/kolbeuk-data/vectordb/spotify/spotify_songs.csv\"\n",
    "\n",
    "\n",
    "dtypes = {\n",
    "    \"track_id\": pl.Utf8,\n",
    "    \"track_name\": pl.Utf8,\n",
    "    \"track_artist\": pl.Utf8,\n",
    "    \"track_popularity\": pl.Float64,\n",
    "    \"track_album_id\": pl.Utf8,\n",
    "    \"track_album_name\": pl.Utf8,\n",
    "    \"track_album_release_date\": pl.Utf8,  # or pl.Date if in a suitable format\n",
    "    \"playlist_name\": pl.Utf8,\n",
    "    \"playlist_id\": pl.Utf8,\n",
    "    \"playlist_genre\": pl.Utf8,\n",
    "    \"playlist_subgenre\": pl.Utf8,\n",
    "    \"danceability\": pl.Float64,\n",
    "    \"energy\": pl.Float64,\n",
    "    \"key\": pl.Int64,\n",
    "    \"loudness\": pl.Float64,\n",
    "    \"mode\": pl.Int64,\n",
    "    \"speechiness\": pl.Float64,\n",
    "    \"acousticness\": pl.Float64,\n",
    "    \"instrumentalness\": pl.Float64,\n",
    "    \"liveness\": pl.Float64,\n",
    "    \"valence\": pl.Float64,\n",
    "    \"tempo\": pl.Float64,\n",
    "    \"duration_ms\": pl.Int64\n",
    "}\n",
    "\n",
    "default_columns = [\n",
    "    \"track_name\", \"track_artist\", \"track_album_name\", \"playlist_genre\",\n",
    "    \"playlist_subgenre\", \"danceability\", \"energy\", \"acousticness\",\n",
    "    \"instrumentalness\", \"track_popularity\"\n",
    "]\n",
    "select_columns=[]\n",
    "try:\n",
    "    spotify_songs = pl.read_csv(file_path, dtypes=dtypes)\n",
    "    selected_columns = select_columns if select_columns else default_columns\n",
    "    spotify_subset = spotify_songs.select(selected_columns)\n",
    "    # Create docs and metadata for ChromaDB\n",
    "    ids = [f\"song{i}\" for i in range(spotify_subset.shape[0])]\n",
    "    documents = spotify_subset[\"track_name\"].to_list()\n",
    "    metadatas = spotify_subset.drop(\"track_name\").to_dicts()\n",
    "\n",
    "except Exception as e:\n",
    "    raise FileNotFoundError(f\"Error reading file {file_path}: {e}\")\n",
    "\n"
   ]
  },
  {
   "cell_type": "code",
   "execution_count": 21,
   "metadata": {},
   "outputs": [
    {
     "name": "stdout",
     "output_type": "stream",
     "text": [
      "Size of DataFrame: 328330\n",
      "Shape of DataFrame: (32833, 10)\n",
      "First 6 lines of selected columns:\n",
      "shape: (6, 10)\n",
      "┌────────────┬────────────┬───────────┬───────────┬───┬────────┬───────────┬───────────┬───────────┐\n",
      "│ track_name ┆ track_arti ┆ track_alb ┆ playlist_ ┆ … ┆ energy ┆ acousticn ┆ instrumen ┆ track_pop │\n",
      "│ ---        ┆ st         ┆ um_name   ┆ genre     ┆   ┆ ---    ┆ ess       ┆ talness   ┆ ularity   │\n",
      "│ str        ┆ ---        ┆ ---       ┆ ---       ┆   ┆ f64    ┆ ---       ┆ ---       ┆ ---       │\n",
      "│            ┆ str        ┆ str       ┆ str       ┆   ┆        ┆ f64       ┆ f64       ┆ f64       │\n",
      "╞════════════╪════════════╪═══════════╪═══════════╪═══╪════════╪═══════════╪═══════════╪═══════════╡\n",
      "│ I Don't    ┆ Ed Sheeran ┆ I Don't   ┆ pop       ┆ … ┆ 0.916  ┆ 0.102     ┆ 0.0       ┆ 66.0      │\n",
      "│ Care (with ┆            ┆ Care      ┆           ┆   ┆        ┆           ┆           ┆           │\n",
      "│ Justin     ┆            ┆ (with     ┆           ┆   ┆        ┆           ┆           ┆           │\n",
      "│ Bieber…    ┆            ┆ Justin    ┆           ┆   ┆        ┆           ┆           ┆           │\n",
      "│            ┆            ┆ Bieber…   ┆           ┆   ┆        ┆           ┆           ┆           │\n",
      "│ Memories - ┆ Maroon 5   ┆ Memories  ┆ pop       ┆ … ┆ 0.815  ┆ 0.0724    ┆ 0.00421   ┆ 67.0      │\n",
      "│ Dillon     ┆            ┆ (Dillon   ┆           ┆   ┆        ┆           ┆           ┆           │\n",
      "│ Francis    ┆            ┆ Francis   ┆           ┆   ┆        ┆           ┆           ┆           │\n",
      "│ Remix      ┆            ┆ Remix)    ┆           ┆   ┆        ┆           ┆           ┆           │\n",
      "│ All the    ┆ Zara       ┆ All the   ┆ pop       ┆ … ┆ 0.931  ┆ 0.0794    ┆ 0.0000233 ┆ 70.0      │\n",
      "│ Time - Don ┆ Larsson    ┆ Time (Don ┆           ┆   ┆        ┆           ┆           ┆           │\n",
      "│ Diablo     ┆            ┆ Diablo    ┆           ┆   ┆        ┆           ┆           ┆           │\n",
      "│ Remix      ┆            ┆ Remix)    ┆           ┆   ┆        ┆           ┆           ┆           │\n",
      "│ Call You   ┆ The Chains ┆ Call You  ┆ pop       ┆ … ┆ 0.93   ┆ 0.0287    ┆ 0.000009  ┆ 60.0      │\n",
      "│ Mine -     ┆ mokers     ┆ Mine -    ┆           ┆   ┆        ┆           ┆           ┆           │\n",
      "│ Keanu      ┆            ┆ The       ┆           ┆   ┆        ┆           ┆           ┆           │\n",
      "│ Silva      ┆            ┆ Remixes   ┆           ┆   ┆        ┆           ┆           ┆           │\n",
      "│ Remi…      ┆            ┆           ┆           ┆   ┆        ┆           ┆           ┆           │\n",
      "│ Someone    ┆ Lewis      ┆ Someone   ┆ pop       ┆ … ┆ 0.833  ┆ 0.0803    ┆ 0.0       ┆ 69.0      │\n",
      "│ You Loved  ┆ Capaldi    ┆ You Loved ┆           ┆   ┆        ┆           ┆           ┆           │\n",
      "│ - Future   ┆            ┆ (Future   ┆           ┆   ┆        ┆           ┆           ┆           │\n",
      "│ Human…     ┆            ┆ Humans…   ┆           ┆   ┆        ┆           ┆           ┆           │\n",
      "│ Beautiful  ┆ Ed Sheeran ┆ Beautiful ┆ pop       ┆ … ┆ 0.919  ┆ 0.0799    ┆ 0.0       ┆ 67.0      │\n",
      "│ People     ┆            ┆ People    ┆           ┆   ┆        ┆           ┆           ┆           │\n",
      "│ (feat.     ┆            ┆ (feat.    ┆           ┆   ┆        ┆           ┆           ┆           │\n",
      "│ Khalid) …  ┆            ┆ Khalid) … ┆           ┆   ┆        ┆           ┆           ┆           │\n",
      "└────────────┴────────────┴───────────┴───────────┴───┴────────┴───────────┴───────────┴───────────┘\n"
     ]
    }
   ],
   "source": [
    "import polars as pl\n",
    "\n",
    "# Assuming 'spotify_subset' is your Polars DataFrame\n",
    "print(\"Size of DataFrame:\", spotify_subset.height * spotify_subset.width)\n",
    "print(\"Shape of DataFrame:\", (spotify_subset.height, spotify_subset.width))\n",
    "print(\"First 6 lines of selected columns:\")\n",
    "print(spotify_subset.head(6))\n"
   ]
  },
  {
   "cell_type": "code",
   "execution_count": 22,
   "metadata": {},
   "outputs": [
    {
     "name": "stdout",
     "output_type": "stream",
     "text": [
      "Some IDs:\n",
      "song0\n",
      "song1\n",
      "song2\n",
      "song3\n",
      "song4\n",
      "\n",
      "Some Documents (Track Names):\n",
      "I Don't Care (with Justin Bieber) - Loud Luxury Remix\n",
      "Memories - Dillon Francis Remix\n",
      "All the Time - Don Diablo Remix\n",
      "Call You Mine - Keanu Silva Remix\n",
      "Someone You Loved - Future Humans Remix\n",
      "\n",
      "Some Metadata Entries:\n",
      "{'track_artist': 'Ed Sheeran', 'track_album_name': \"I Don't Care (with Justin Bieber) [Loud Luxury Remix]\", 'playlist_genre': 'pop', 'playlist_subgenre': 'dance pop', 'danceability': 0.748, 'energy': 0.916, 'acousticness': 0.102, 'instrumentalness': 0.0, 'track_popularity': 66.0}\n",
      "{'track_artist': 'Maroon 5', 'track_album_name': 'Memories (Dillon Francis Remix)', 'playlist_genre': 'pop', 'playlist_subgenre': 'dance pop', 'danceability': 0.726, 'energy': 0.815, 'acousticness': 0.0724, 'instrumentalness': 0.00421, 'track_popularity': 67.0}\n",
      "{'track_artist': 'Zara Larsson', 'track_album_name': 'All the Time (Don Diablo Remix)', 'playlist_genre': 'pop', 'playlist_subgenre': 'dance pop', 'danceability': 0.675, 'energy': 0.931, 'acousticness': 0.0794, 'instrumentalness': 2.33e-05, 'track_popularity': 70.0}\n"
     ]
    }
   ],
   "source": [
    "\n",
    "# Print some IDs\n",
    "print(\"Some IDs:\")\n",
    "for id in ids[:5]:  # Adjust the number to print as many as you like\n",
    "    print(id)\n",
    "\n",
    "# Print some documents (track names)\n",
    "print(\"\\nSome Documents (Track Names):\")\n",
    "for document in documents[:5]:  # Adjust the number to print as many as you like\n",
    "    print(document)\n",
    "\n",
    "# Print some metadata entries\n",
    "print(\"\\nSome Metadata Entries:\")\n",
    "for metadata in metadatas[:3]:  # Adjust the number to print as many as you like\n",
    "    print(metadata)\n",
    "\n"
   ]
  }
 ],
 "metadata": {
  "kernelspec": {
   "display_name": "Python 3",
   "language": "python",
   "name": "python3"
  },
  "language_info": {
   "codemirror_mode": {
    "name": "ipython",
    "version": 3
   },
   "file_extension": ".py",
   "mimetype": "text/x-python",
   "name": "python",
   "nbconvert_exporter": "python",
   "pygments_lexer": "ipython3",
   "version": "3.11.6"
  }
 },
 "nbformat": 4,
 "nbformat_minor": 2
}
