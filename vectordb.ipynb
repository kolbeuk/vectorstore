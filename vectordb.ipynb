{
 "cells": [
  {
   "cell_type": "code",
   "execution_count": null,
   "metadata": {},
   "outputs": [],
   "source": [
    "import pathlib\n",
    "import polars as pl\n",
    "import chromadb\n",
    "import os\n",
    "import json\n",
    "from openai import OpenAI\n",
    "from chromadb.utils import embedding_functions\n",
    "from more_itertools import batched"
   ]
  },
  {
   "cell_type": "code",
   "execution_count": null,
   "metadata": {},
   "outputs": [],
   "source": [
    "def prepare_car_reviews_data(data_path: pathlib.Path, vehicle_years: list[int] = [2017]):\n",
    "    \"\"\"Prepare the car reviews dataset for ChromaDB\"\"\"\n",
    "\n",
    "    # Define the schema to ensure proper data types are enforced\n",
    "    dtypes = {\n",
    "        \"\": pl.Int64,\n",
    "        \"Review_Date\": pl.Utf8,\n",
    "        \"Author_Name\": pl.Utf8,\n",
    "        \"Vehicle_Title\": pl.Utf8,\n",
    "        \"Review_Title\": pl.Utf8,\n",
    "        \"Review\": pl.Utf8,\n",
    "        \"Rating\": pl.Float64,\n",
    "    }\n",
    "\n",
    "    # Scan the car reviews dataset(s)\n",
    "    car_reviews = pl.scan_csv(data_path, dtypes=dtypes)\n",
    "\n",
    "    # Extract the vehicle title and year as new columns\n",
    "    # Filter on selected years\n",
    "    car_review_db_data = (\n",
    "        car_reviews.with_columns(\n",
    "            [\n",
    "                (\n",
    "                    pl.col(\"Vehicle_Title\").str.split(\n",
    "                        by=\" \").list.get(0).cast(pl.Int64)\n",
    "                ).alias(\"Vehicle_Year\"),\n",
    "                (pl.col(\"Vehicle_Title\").str.split(by=\" \").list.get(1)).alias(\n",
    "                    \"Vehicle_Model\"\n",
    "                ),\n",
    "            ]\n",
    "        )\n",
    "        .filter(pl.col(\"Vehicle_Year\").is_in(vehicle_years))\n",
    "        .select([\"Review_Title\", \"Review\", \"Rating\", \"Vehicle_Year\", \"Vehicle_Model\"])\n",
    "        .sort([\"Vehicle_Model\", \"Rating\"])\n",
    "        .collect()\n",
    "    )\n",
    "\n",
    "    # Create ids, documents, and metadatas data in the format chromadb expects\n",
    "    ids = [f\"review{i}\" for i in range(car_review_db_data.shape[0])]\n",
    "    documents = car_review_db_data[\"Review\"].to_list()\n",
    "    metadatas = car_review_db_data.drop(\"Review\").to_dicts()\n",
    "\n",
    "    return {\"ids\": ids, \"documents\": documents, \"metadatas\": metadatas}"
   ]
  },
  {
   "cell_type": "code",
   "execution_count": null,
   "metadata": {},
   "outputs": [],
   "source": [
    "def build_chroma_collection(\n",
    "    chroma_path: pathlib.Path,\n",
    "    collection_name: str,\n",
    "    embedding_func_name: str,\n",
    "    ids: list[str],\n",
    "    documents: list[str],\n",
    "    metadatas: list[dict],\n",
    "    distance_func_name: str = \"cosine\",\n",
    "):\n",
    "    \"\"\"Create a ChromaDB collection\"\"\"\n",
    "\n",
    "    chroma_client = chromadb.PersistentClient(chroma_path)\n",
    "\n",
    "    embedding_func = embedding_functions.SentenceTransformerEmbeddingFunction(\n",
    "        model_name=embedding_func_name\n",
    "    )\n",
    "\n",
    "    collection = chroma_client.create_collection(\n",
    "        name=collection_name,\n",
    "        embedding_function=embedding_func,\n",
    "        metadata={\"hnsw:space\": distance_func_name},\n",
    "    )\n",
    "\n",
    "    document_indices = list(range(len(documents)))\n",
    "\n",
    "    for batch in batched(document_indices, 166):\n",
    "        start_idx = batch[0]\n",
    "        end_idx = batch[-1]\n",
    "\n",
    "        collection.add(\n",
    "            ids=ids[start_idx:end_idx],\n",
    "            documents=documents[start_idx:end_idx],\n",
    "            metadatas=metadatas[start_idx:end_idx],\n",
    "        )"
   ]
  },
  {
   "cell_type": "code",
   "execution_count": null,
   "metadata": {},
   "outputs": [],
   "source": [
    "# # from car_data_etl import prepare_car_reviews_data\n",
    "# DATA_PATH = \"/Users/davidkolb/Documents/Code/kolbeuk-data/vectordb/archive/*\"\n",
    "# chroma_car_reviews_dict = prepare_car_reviews_data(DATA_PATH)\n",
    "# chroma_car_reviews_dict.keys()\n",
    "# chroma_car_reviews_dict[\"ids\"][-10]\n",
    "# print(chroma_car_reviews_dict[\"documents\"][-10])\n",
    "# chroma_car_reviews_dict[\"metadatas\"][-10]"
   ]
  },
  {
   "cell_type": "code",
   "execution_count": null,
   "metadata": {},
   "outputs": [],
   "source": [
    "DATA_PATH = \"/Users/davidkolb/Documents/Code/kolbeuk-data/vectordb/archive/*\"\n",
    "CHROMA_PATH = \"/Users/davidkolb/Documents/Code/kolbeuk-data/vectordb/car_review_embeddings\"\n",
    "EMBEDDING_FUNC_NAME = \"multi-qa-MiniLM-L6-cos-v1\"\n",
    "COLLECTION_NAME = \"car_reviews\"\n",
    "\n",
    "chroma_car_reviews_dict = prepare_car_reviews_data(DATA_PATH)\n",
    "\n",
    "build_chroma_collection(\n",
    "    CHROMA_PATH,\n",
    "    COLLECTION_NAME,\n",
    "    EMBEDDING_FUNC_NAME,\n",
    "    chroma_car_reviews_dict[\"ids\"],\n",
    "    chroma_car_reviews_dict[\"documents\"],\n",
    "    chroma_car_reviews_dict[\"metadatas\"]\n",
    ")"
   ]
  },
  {
   "cell_type": "code",
   "execution_count": null,
   "metadata": {},
   "outputs": [],
   "source": [
    "client = chromadb.PersistentClient(CHROMA_PATH)\n",
    "embedding_func = embedding_functions.SentenceTransformerEmbeddingFunction(\n",
    "        model_name=EMBEDDING_FUNC_NAME\n",
    "    )\n",
    "collection = client.get_collection(name=COLLECTION_NAME, embedding_function=embedding_func)"
   ]
  },
  {
   "cell_type": "code",
   "execution_count": null,
   "metadata": {},
   "outputs": [],
   "source": [
    "great_reviews = collection.query(\n",
    "    query_texts=[\"Find me some positive reviews that discuss the car's performance\"],\n",
    "    n_results=5,\n",
    "    include=[\"documents\", \"distances\", \"metadatas\"]\n",
    ")\n",
    "\n",
    "great_reviews[\"documents\"][0][0]"
   ]
  },
  {
   "cell_type": "code",
   "execution_count": null,
   "metadata": {},
   "outputs": [],
   "source": [
    "collection.peek()"
   ]
  },
  {
   "cell_type": "code",
   "execution_count": 62,
   "metadata": {},
   "outputs": [],
   "source": [
    "def print_review_summaries(review_summaries):\n",
    "    # Access and print the content field\n",
    "    print(review_summaries.choices[0].message.content)\n",
    "\n",
    "    # Print the attributes of the review_summaries object\n",
    "    for attr, value in review_summaries.__dict__.items():\n",
    "        print(f\"{attr}: {value}\")"
   ]
  },
  {
   "cell_type": "code",
   "execution_count": 56,
   "metadata": {},
   "outputs": [
    {
     "name": "stdout",
     "output_type": "stream",
     "text": [
      "ChatCompletionMessage(content='The key to great customer satisfaction is providing exceptional customer service. This involves understanding and anticipating the needs of customers, being responsive and attentive to their inquiries and concerns, and going above and beyond to exceed their expectations. Building strong relationships with customers, being knowledgeable about the products and services offered, and consistently delivering a positive and personalized experience are also crucial. Additionally, actively seeking feedback and continuously improving based on customer input is essential for maintaining high levels of customer satisfaction.', role='assistant', function_call=None, tool_calls=None)\n"
     ]
    }
   ],
   "source": [
    "client = OpenAI()\n",
    "\n",
    "context = \"You are a customer success employee at a large car dealership.\"\n",
    "question = \"What's the key to great customer satisfaction?\"\n",
    "\n",
    "completion = client.chat.completions.create(\n",
    "    model=\"gpt-3.5-turbo\",\n",
    "    messages=[\n",
    "        {\"role\": \"system\", \"content\": context},\n",
    "        {\"role\": \"user\", \"content\": question},\n",
    "    ],\n",
    "    temperature=0\n",
    ")"
   ]
  },
  {
   "cell_type": "code",
   "execution_count": 63,
   "metadata": {},
   "outputs": [
    {
     "name": "stdout",
     "output_type": "stream",
     "text": [
      "The key to great customer satisfaction is providing exceptional customer service. This involves understanding and anticipating the needs of customers, being responsive and attentive to their inquiries and concerns, and going above and beyond to exceed their expectations. Building strong relationships with customers, being knowledgeable about the products and services offered, and consistently delivering a positive and personalized experience are also crucial. Additionally, actively seeking feedback and continuously improving based on customer input is essential for maintaining high levels of customer satisfaction.\n",
      "id: chatcmpl-8YWlqKkfFQqTiouspnnaxmVLEyBKV\n",
      "choices: [Choice(finish_reason='stop', index=0, logprobs=None, message=ChatCompletionMessage(content='The key to great customer satisfaction is providing exceptional customer service. This involves understanding and anticipating the needs of customers, being responsive and attentive to their inquiries and concerns, and going above and beyond to exceed their expectations. Building strong relationships with customers, being knowledgeable about the products and services offered, and consistently delivering a positive and personalized experience are also crucial. Additionally, actively seeking feedback and continuously improving based on customer input is essential for maintaining high levels of customer satisfaction.', role='assistant', function_call=None, tool_calls=None))]\n",
      "created: 1703239814\n",
      "model: gpt-3.5-turbo-0613\n",
      "object: chat.completion\n",
      "system_fingerprint: None\n",
      "usage: CompletionUsage(completion_tokens=91, prompt_tokens=32, total_tokens=123)\n"
     ]
    }
   ],
   "source": [
    "# Call the function with your review_summaries object as an argument\n",
    "print_review_summaries(completion)"
   ]
  },
  {
   "cell_type": "code",
   "execution_count": null,
   "metadata": {},
   "outputs": [],
   "source": [
    "client = OpenAI()\n",
    "\n",
    "chroma_client = chromadb.PersistentClient(CHROMA_PATH)\n",
    "embedding_func = embedding_functions.SentenceTransformerEmbeddingFunction(\n",
    "    model_name=EMBEDDING_FUNC_NAME\n",
    ")\n",
    "\n",
    "collection = chroma_client.get_collection(\n",
    "    name=COLLECTION_NAME, embedding_function=embedding_func\n",
    ")"
   ]
  },
  {
   "cell_type": "code",
   "execution_count": 58,
   "metadata": {},
   "outputs": [],
   "source": [
    "context = \"\"\" You are a customer success employee at a large car dealership. Use the following car reviews to answer questions: {} \"\"\"\n",
    "\n",
    "question = \"\"\"What's the key to great customer satisfaction based on detailed positive reviews?\"\"\"\n",
    "\n",
    "good_reviews = collection.query(\n",
    "    query_texts=[question],\n",
    "    n_results=10,\n",
    "    include=[\"documents\"],\n",
    "    where={\"Rating\": {\"$gte\": 3}},\n",
    ")\n",
    "reviews_str = \",\".join(good_reviews[\"documents\"][0])"
   ]
  },
  {
   "cell_type": "code",
   "execution_count": 60,
   "metadata": {},
   "outputs": [
    {
     "name": "stdout",
     "output_type": "stream",
     "text": [
      "ChatCompletionMessage(content='Based on the detailed positive reviews, the key to great customer satisfaction is a combination of factors, including:\\n\\n1. Value for money: Customers mention that the cars offer great value and are a good deal. This suggests that customers feel they are getting their money\\'s worth and are happy with the overall pricing.\\n\\n2. Reliability: The cars are praised for their reliability, indicating that customers value a vehicle that they can depend on and trust.\\n\\n3. Quality and comfort: Customers appreciate the excellent quality, technology, and comfort provided by the cars. This suggests that the vehicles are built to a high standard and offer a comfortable driving experience.\\n\\n4. Performance: Customers mention that they love the performance of the cars, highlighting smooth acceleration and excellent features.\\n\\n5. Low maintenance costs: The mention of low maintenance costs is seen as a positive factor. Customers appreciate a car that doesn\\'t require frequent and expensive repairs.\\n\\n6. Positive dealership experiences: The positive mentions of the Service Center and body shop experiences indicate that customers value good customer service and support from the dealership.\\n\\n7. Environmental friendliness: Customers appreciate the \"cool\" and environmentally-friendly image associated with the cars. This suggests that customers place value on sustainability and eco-friendly options.\\n\\nOverall, the key to great customer satisfaction lies in offering a high-quality, reliable, and valuable product, accompanied by excellent customer service and a positive dealership experience.', role='assistant', function_call=None, tool_calls=None)\n"
     ]
    }
   ],
   "source": [
    "good_review_summaries = client.chat.completions.create(\n",
    "    model=\"gpt-3.5-turbo\",\n",
    "    messages=[\n",
    "        {\"role\": \"system\", \"content\": context.format(reviews_str)},\n",
    "        {\"role\": \"user\", \"content\": question},\n",
    "    ]\n",
    ")"
   ]
  },
  {
   "cell_type": "code",
   "execution_count": 61,
   "metadata": {},
   "outputs": [
    {
     "name": "stdout",
     "output_type": "stream",
     "text": [
      "Based on the detailed positive reviews, the key to great customer satisfaction is a combination of factors, including:\n",
      "\n",
      "1. Value for money: Customers mention that the cars offer great value and are a good deal. This suggests that customers feel they are getting their money's worth and are happy with the overall pricing.\n",
      "\n",
      "2. Reliability: The cars are praised for their reliability, indicating that customers value a vehicle that they can depend on and trust.\n",
      "\n",
      "3. Quality and comfort: Customers appreciate the excellent quality, technology, and comfort provided by the cars. This suggests that the vehicles are built to a high standard and offer a comfortable driving experience.\n",
      "\n",
      "4. Performance: Customers mention that they love the performance of the cars, highlighting smooth acceleration and excellent features.\n",
      "\n",
      "5. Low maintenance costs: The mention of low maintenance costs is seen as a positive factor. Customers appreciate a car that doesn't require frequent and expensive repairs.\n",
      "\n",
      "6. Positive dealership experiences: The positive mentions of the Service Center and body shop experiences indicate that customers value good customer service and support from the dealership.\n",
      "\n",
      "7. Environmental friendliness: Customers appreciate the \"cool\" and environmentally-friendly image associated with the cars. This suggests that customers place value on sustainability and eco-friendly options.\n",
      "\n",
      "Overall, the key to great customer satisfaction lies in offering a high-quality, reliable, and valuable product, accompanied by excellent customer service and a positive dealership experience.\n"
     ]
    }
   ],
   "source": [
    "# Call the function with your review_summaries object as an argument\n",
    "print_review_summaries(good_review_summaries)"
   ]
  },
  {
   "cell_type": "code",
   "execution_count": 64,
   "metadata": {},
   "outputs": [],
   "source": [
    "question = \"\"\"Which of these poor reviews has the worst implications about our dealership? Explain why.\"\"\"\n",
    "\n",
    "poor_reviews = collection.query(\n",
    "    query_texts=[question],\n",
    "    n_results=5,\n",
    "    include=[\"documents\"],\n",
    "    where={\"Rating\": {\"$lte\": 3}},\n",
    ")\n",
    "\n",
    "reviews_str = \",\".join(poor_reviews[\"documents\"][0])\n",
    "\n",
    "poor_review_analysis = client.chat.completions.create(\n",
    "    model=\"gpt-3.5-turbo\",\n",
    "    messages=[\n",
    "        {\"role\": \"system\", \"content\": context.format(reviews_str)},\n",
    "        {\"role\": \"user\", \"content\": question},\n",
    "    ]\n",
    ")"
   ]
  },
  {
   "cell_type": "code",
   "execution_count": 65,
   "metadata": {},
   "outputs": [
    {
     "name": "stdout",
     "output_type": "stream",
     "text": [
      "The first review has the worst implications about the dealership. This is because the customer mentions several unresolved electrical issues with the car, including problems with Bluetooth, backup camera, trunk, black screen, and seatbelts. These issues directly affect the functionality and safety of the vehicle. Additionally, the customer expresses frustration at the dealership's inability to resolve these issues despite multiple visits. This suggests a lack of expertise or responsiveness on the dealership's part, which reflects poorly on their customer service and ability to address customer concerns.\n",
      "id: chatcmpl-8YWsLHf5gzMekeVz8sqF8ePDYkUJR\n",
      "choices: [Choice(finish_reason='stop', index=0, logprobs=None, message=ChatCompletionMessage(content=\"The first review has the worst implications about the dealership. This is because the customer mentions several unresolved electrical issues with the car, including problems with Bluetooth, backup camera, trunk, black screen, and seatbelts. These issues directly affect the functionality and safety of the vehicle. Additionally, the customer expresses frustration at the dealership's inability to resolve these issues despite multiple visits. This suggests a lack of expertise or responsiveness on the dealership's part, which reflects poorly on their customer service and ability to address customer concerns.\", role='assistant', function_call=None, tool_calls=None))]\n",
      "created: 1703240217\n",
      "model: gpt-3.5-turbo-0613\n",
      "object: chat.completion\n",
      "system_fingerprint: None\n",
      "usage: CompletionUsage(completion_tokens=102, prompt_tokens=1298, total_tokens=1400)\n"
     ]
    }
   ],
   "source": [
    "# Call the function with your review_summaries object as an argument\n",
    "print_review_summaries(poor_review_analysis)"
   ]
  }
 ],
 "metadata": {
  "kernelspec": {
   "display_name": "Python 3",
   "language": "python",
   "name": "python3"
  },
  "language_info": {
   "codemirror_mode": {
    "name": "ipython",
    "version": 3
   },
   "file_extension": ".py",
   "mimetype": "text/x-python",
   "name": "python",
   "nbconvert_exporter": "python",
   "pygments_lexer": "ipython3",
   "version": "3.11.6"
  }
 },
 "nbformat": 4,
 "nbformat_minor": 2
}
